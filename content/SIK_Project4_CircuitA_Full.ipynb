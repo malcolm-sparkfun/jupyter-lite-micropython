{
 "cells": [
  {
   "cell_type": "markdown",
   "id": "f3918b49-9476-4415-a7e9-68539c202181",
   "metadata": {},
   "source": [
    "# Project 4 - Circuit 4A: OLED \"Hello, World!\"\n",
    "\n",
    "Printing “Hello, world!” is usually the first thing that programming tutorials will have you do in a new language. This guide starts by blinking an LED, but now we’re going to print out real text using an \"organic light-emitting diode\" (OLED) display.\n",
    " \n",
    "TODO: Update the LCD display with an OLED display.\n",
    "TODO: Update the jumper wires with a Qwiic connector.\n",
    "![What you need](images/sik-demo-prj4-ca-need.png)\n",
    "\n",
    "## New Components\n",
    "\n",
    "### Organic Light-Emitting Diode (OLED) Screens\n",
    "\n",
    "An [OLED Display](https://en.wikipedia.org/wiki/OLED) is a component that allows us to visualize information from our program in the real world. It contains a layer that emits light in response to an electric current. The [SparkFun 1.3\" OLED display](https://www.sparkfun.com/sparkfun-qwiic-oled-1-3in-128x64.html) provided in the SIK is a \"monochrome\" OLED meaning that it can only show two colors: white and black. Each pixel of the display can be set individually to white or black allowing us to display anything from text to lines to shapes!\n",
    "\n",
    "![OLED](images/sik-docs-prj4-ca-oled.jpg)\n",
    "\n",
    "### Qwiic Cable\n",
    "\n",
    "Do you want a break from sticking jumper wires into your breadboard? Then this project is for you. SparkFun's [Qwiic Connect System](https://www.sparkfun.com/qwiic) saves you the trouble of manually running jumpers between your RedBoard and your other components. Qwiic cables combine 4 jumpers into a single cable with a handy \"clicking\" connector at the end. SparkFun builds this connector into many of their sensors so that they can be used out-of-the-box without any breadboard set up needed.\n",
    "\n",
    "![Qwiic Cable](images/sik-docs-prj4-ca-qwiic.jpg)\n",
    "\n",
    "## New Concepts\n",
    "\n",
    "### I2C Communication\n",
    "The 4 jumper wires that are combined in a qwiic cable are power, ground, and the 2 necessary signals (SDA and SCL) that make up the (I2C Communication protocol)[https://learn.sparkfun.com/tutorials/i2c]. In electronics, a [communication protocol](https://en.wikipedia.org/wiki/Serial_communication) is just a way that devices can talk to each other by sending ones and zeros to each other. They do this by setting signals high (1) and low (0) just like we've been doing in all of our projects. By setting the signals high and low very quickly and in a known kind of pattern, the devices can talk to each other! You can think of it kind of like [Morse Code](https://en.wikipedia.org/wiki/Morse_code) where entire words can be sent between people by just sending a series of dots and dashes. I2C is a very common communication protocol where one device puts ones and zeros on two different wires to talk to another device (or multiple devices). Many SparkFun devices speak in this \"language\" and that is why the Qwiic Connnector was created to easily connect together devices that communicate with I2C.\n",
    "\n",
    "TODO: Maybe replace this with our own similar image that has serial/peripheral instead of master/slave.\n",
    "![I2C Protocol](images/sik-docs-prj4-ca-i2c.jpg)\n",
    "\n",
    "### Qwiic Driver Modules\n",
    "Since so many components of SparkFun hardware use the Qwiic Connect system and I2C to communicate, there are also [many MicroPython software modules](https://github.com/topics/sparkfun-python) that have been developed. These modules eliminate the need to know the ins and outs of the complicated I2C protocol and to deeply study the datasheet of each new device. They provide us functions we can use directly to talk to I2C devices. We will be using one of these, the [qwiic_oled_py](https://github.com/sparkfun/qwiic_oled_base_py) module in order to talk to our OLED. The RedBoard RP2350 ships with these drivers already installed, so you can directly `import` them in your code.\n",
    "\n",
    "Ready to start hooking everything up? Check out the Hardware Hookup section below to see how everything is connected.\n",
    "\n",
    "## Hardware Hookup\n",
    "\n",
    "Take a deep breath, this circuit has no circuit diagram, schematic, or hookup table! Just plug one end of the Qwiic cable into the Qwiic connector of your OLED and the other end of the Qwiic cable into the OLED like pictured below. Just like that you're ready to use the OLED. \n",
    "\n",
    "TODO: Get a nice picture of the backside of the oled with a qwiic cable attached. Possibly draw an arrow or similar in the direction that it should be plugged in. Do the same for the RedBoard RP2350.\n"
   ]
  },
  {
   "cell_type": "markdown",
   "id": "1bd52930-d783-460a-923b-41a3c37d2f2b",
   "metadata": {},
   "source": [
    "## Using the OLED.\n",
    "\n",
    "Now that your circuit is built, it's time to write to the OLED. This is done using MicroPython, which is running on the RedBoard.\n",
    "\n",
    "The first step is to connect your RedBoard to a USB port on this computer.\n",
    "\n",
    "Select the \"Connect\" button at the bottom right of this screen and a panel is displayed\n",
    "\n",
    "Select the \"Connect Device\" Button, and when the selection dialog appears, select the port with that displays ***Board in FS mode (...)*** or *TBD*\n",
    "\n",
    "![Select a Port](images/sik-demo-select-port.png)\n",
    "\n",
    "With the RedBoard connected, use the following MicroPython commands to write to the OLED. \n",
    "\n",
    "### Using MicroPython\n",
    "\n",
    "The following MicroPython commands are entered to write to the OLED. \n",
    "\n",
    "**REMEMBER** To enter a MicroPython command, hold down either the Control (on Windows) or Command (on Mac) key when pressing *Enter*\n",
    "\n",
    "**Make sure for each notebook you run EVERY code cell presented and you run them in order.**\n",
    "\n",
    "An alternative is to click the \"Restart kernel and run all cells\" button at the top of the page (⏩). If you are connected to your board, this should automatically run every cell in order.\n",
    "\n",
    "#### Step 1 - Setup\n",
    "\n",
    "Lets start by importing any of the libaries we plan on using and setting up our pins."
   ]
  },
  {
   "cell_type": "code",
   "execution_count": null,
   "id": "4494b462-505b-4a23-8ebc-28b54152bd88",
   "metadata": {},
   "outputs": [],
   "source": [
    "# The qwiic_oled driver module allows for control of SparkFun OLEDs.\n",
    "# The QwiicLargeOled class is for the Large 1.3\" OLED display in our SIK\n",
    "from qwiic_oled import QwiicLargeOled\n",
    "\n",
    "# Define the OLED object that we will use\n",
    "# Note how we don't have to provide the pins, the driver automatically selects the pins for the qwiic connector\n",
    "myOLED = QwiicLargeOled()"
   ]
  },
  {
   "cell_type": "markdown",
   "id": "2d94be96-a8c9-4932-8111-58d10a8622a9",
   "metadata": {},
   "source": [
    "#### Step 2 - Displaying To the OLED\n",
    "Now let's write \"Hello World!\" out to the OLED! We will use the `begin()`, `clear()`, `print()` and `display()` functions from the qwiic_oled module. For a full list of the functions that this module provides, check out the [driver documentation](https://docs.sparkfun.com/qwiic_oled_base_py/classqwiic__oled_1_1qwiic__oled__base_1_1_qwiic_oled_base.html)."
   ]
  },
  {
   "cell_type": "code",
   "execution_count": null,
   "id": "04884e2e",
   "metadata": {},
   "outputs": [],
   "source": [
    "myOLED.begin() # Initialize the OLED\n",
    "\n",
    "# Clear the OLED\n",
    "myOLED.clear(myOLED.ALL) # Clear OLED graphic memory.\n",
    "myOLED.clear(myOLED.PAGE) # Clear the processor's display buffer.\n",
    "\n",
    "myOLED.print(\"Hello World!\") # Print a message to the OLED\n",
    "myOLED.display() # Display the message on the OLED (this function must be called to actually show the text)"
   ]
  },
  {
   "cell_type": "markdown",
   "id": "10d5c3fe-852f-42f7-8378-85dc8c8c7c3e",
   "metadata": {},
   "source": [
    "## Coding Challenges\n",
    "\n",
    "Challenge | Description  \n",
    "--- | ---  \n",
    "Change the message | Try changing the code to display another message.  \n",
    "Show hours, minutes and seconds | Try adding some code so that the display shows the hours, minutes and seconds that have passed since the RedBoard was last reset.  \n",
    "Count button presses | By adding a button to the circuit, you can count the number of times the button was pressed or have the button change what the OLED is displaying. There could be many pages of information that you cycle between with button presses. \n",
    "\n",
    "## Troubleshooting\n",
    "\n",
    "| Problem             | Solution                                                                                                                                                                                                                                                                                                                                                                                                                                                                                 |\n",
    "|---------------------|------------------------------------------------------------------------------------------------------------------------------------------------------------------------------------------------------------------------------------------------------------------------------------------------------------------------------------------------------------------------------------------------------------------------------------------------------------------------------------------|\n",
    "| Not working at all  | Double check the circuit's wiring. There are a lot of wires in this circuit, and it's easy to mix up one or two.                                                                                                                                                                                                                                                                                                                                 |\n",
    "| Still not working?  | Jumper wires unfortunately can go \"bad\" from getting bent too much. The copper wire inside can break, leaving an open connection in your circuit. If you are certain that your circuit is wired correctly and that your code is error-free and uploaded but you are still encountering issues, try replacing one or more of the jumper wires for the component that is not working. |\n",
    "\n",
    "## What You Should See\n",
    "When you run the cell above, you should see the text \"Hello World!\" show up on the OLED display.\n",
    "\n",
    "## You've Completed Circuit 4A!\n",
    "\n",
    "Continue to circuit 4B to build your very own digital temperature sensor.\n",
    "\n",
    "![Next - Circuit B](images/sik-demo-prj4-ca-next.png)"
   ]
  }
 ],
 "metadata": {
  "kernelspec": {
   "display_name": "MicroPython upydevice kernel",
   "language": "python",
   "name": "micropython-upydevice"
  },
  "language_info": {
   "codemirror_mode": "python",
   "file_extension": ".py",
   "mimetype": "text/x-python",
   "name": "python",
   "pygments_lexer": "python"
  }
 },
 "nbformat": 4,
 "nbformat_minor": 5
}
