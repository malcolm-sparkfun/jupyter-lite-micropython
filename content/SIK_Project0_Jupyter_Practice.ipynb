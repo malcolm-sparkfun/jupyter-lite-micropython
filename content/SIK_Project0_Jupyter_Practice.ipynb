{
 "cells": [
  {
   "cell_type": "markdown",
   "id": "f3918b49-9476-4415-a7e9-68539c202181",
   "metadata": {},
   "source": [
    "# Project 0 - Jupyter Notebook Tutorial\n",
    "\n",
    "Welcome to the SparkFun MicroPython SIK! This guide contains a Jupyter Notebook for each."
   ]
  },
  {
   "cell_type": "code",
   "execution_count": null,
   "id": "f346d560",
   "metadata": {},
   "outputs": [],
   "source": []
  },
  {
   "cell_type": "markdown",
   "id": "1bd52930-d783-460a-923b-41a3c37d2f2b",
   "metadata": {},
   "source": [
    "## Blinking the LED\n",
    "\n",
    "Now that your circuit is build, it's time to blink the LED. This is done using MicroPython, which is running on the RedBoard.\n",
    "\n",
    "The first step is to connect your RedBoard to a USB port on this computer.\n",
    "\n",
    "Select the \"Connect\" button at the bottom right of this screen and a panel is displayed\n",
    "\n",
    "Select the \"Connect Device\" Button, and when the selection dialog appears, select the port that displays ***Board in FS mode (...)*** or ***Board CDC (...)***\n",
    "\n",
    "![Select a Port](images/sik-demo-select-port.png)\n",
    "\n",
    "With the RedBoard connected, use the following MicroPython commands to blink the LED. \n",
    "\n",
    "### Using MicroPython\n",
    "\n",
    "The following MicroPython commands are entered to blink the LED on your board. \n",
    "\n",
    "**REMEMBER** To enter a MicroPython command, hold down either the Control (on Windows) or Command (on Mac) key when pressing *Enter*.\n",
    "\n",
    "**Make sure for each notebook you run EVERY code cell presented and you run them in order.**\n",
    "\n",
    "An alternative is to click the \"Restart kernel and run all cells\" button at the top of the page (⏩). If you are connected to your board, this should automatically run every cell in order.\n",
    "\n",
    "#### Step 1 - Setup\n",
    "\n",
    "To blink the LED, we need to enable the board pin **34** (the pin that the LED is connected to in the circuit).  \n",
    "\n",
    "To do this we **load the Pin definition for the board**\n",
    "\n"
   ]
  },
  {
   "cell_type": "code",
   "execution_count": null,
   "id": "4494b462-505b-4a23-8ebc-28b54152bd88",
   "metadata": {},
   "outputs": [],
   "source": [
    "from machine import Pin"
   ]
  },
  {
   "cell_type": "markdown",
   "id": "2d94be96-a8c9-4932-8111-58d10a8622a9",
   "metadata": {},
   "source": [
    "Now **create a Pin variable for the LED pin, number 34**. Also define it as an **output pin**, so we can turn it on and off"
   ]
  },
  {
   "cell_type": "code",
   "execution_count": null,
   "id": "432bb00a-9160-4e56-a08e-716ab922f60c",
   "metadata": {},
   "outputs": [],
   "source": [
    "led_pin = Pin(34, Pin.OUT)"
   ]
  },
  {
   "cell_type": "markdown",
   "id": "27ad33ac-2e51-409c-8a12-753da4384740",
   "metadata": {},
   "source": [
    "We turn the LED on by setting the pin value to **high** or on"
   ]
  },
  {
   "cell_type": "code",
   "execution_count": null,
   "id": "cd2ae013-674c-4f33-8827-8c3d672d07a5",
   "metadata": {},
   "outputs": [],
   "source": [
    "led_pin.high()"
   ]
  },
  {
   "cell_type": "markdown",
   "id": "f8c6243c-33b8-4eb1-8065-e22e5e6d3814",
   "metadata": {},
   "source": [
    "And to turn the LED off, we set the pin to **low**"
   ]
  },
  {
   "cell_type": "code",
   "execution_count": null,
   "id": "52a875da-ccd3-437d-b310-e2ce58de53bd",
   "metadata": {},
   "outputs": [],
   "source": [
    "led_pin.low()"
   ]
  },
  {
   "cell_type": "markdown",
   "id": "3cb0f029-afa4-4a0b-9846-cc874d67879a",
   "metadata": {},
   "source": [
    "To *blink* the LED, we can turn it on, wait a period of time and then turn it off. This is done by sleeping between the **on** and **off** commands. \n",
    "\n",
    "To do this in MicroPython, we need a sleep function. Let's load the **sleep** function, which will sleep for a number of seconds.."
   ]
  },
  {
   "cell_type": "code",
   "execution_count": null,
   "id": "73457bed-1444-4300-ba58-4809bf9068f8",
   "metadata": {},
   "outputs": [],
   "source": [
    "from time import sleep"
   ]
  },
  {
   "cell_type": "markdown",
   "id": "1ea7c7a6-7dfb-4bbd-bab5-da4b52af14bf",
   "metadata": {},
   "source": [
    "Now lets blink the LED - sleeping for 1 second between turning the LED on and off"
   ]
  },
  {
   "cell_type": "code",
   "execution_count": null,
   "id": "95e90c57-57d0-4e26-b8f8-0d4f0720b46a",
   "metadata": {},
   "outputs": [],
   "source": [
    "led_pin.high()\n",
    "sleep(1)\n",
    "led_pin.low()\n",
    "sleep(1)\n",
    "led_pin.high()\n",
    "sleep(1)\n",
    "led_pin.low()"
   ]
  },
  {
   "cell_type": "markdown",
   "id": "54d14da9-3d4f-4493-98a5-3dd0c025733f",
   "metadata": {},
   "source": [
    "Now we have blinked the LED! \n",
    "\n",
    "Now we'll present the idea of a **for loop**. A loop repeats a statement for a number of specified times. \n",
    "\n",
    "To blink our LED 10 times, use the following command:"
   ]
  },
  {
   "cell_type": "code",
   "execution_count": null,
   "id": "73237269-9f49-4145-b03d-7ba0f6bc8664",
   "metadata": {},
   "outputs": [],
   "source": [
    "for i in range(10):\n",
    "    led_pin.high()\n",
    "    sleep(1)\n",
    "    led_pin.low()\n",
    "    sleep(1)"
   ]
  },
  {
   "cell_type": "markdown",
   "id": "d91669fb-aea7-411c-927b-99724540a33c",
   "metadata": {},
   "source": [
    "## What You Should See\n",
    "\n",
    "When this command runs, it blinks the LED 10 times by setting the LED high, then low and sleeping in between each step. "
   ]
  },
  {
   "cell_type": "markdown",
   "id": "67d5c010",
   "metadata": {},
   "source": [
    "## Coding Challenges\n",
    "\n",
    "| Challenge              | Description                                                                                                                                                                                                                                    |\n",
    "|------------------------|------------------------------------------------------------------------------------------------------------------------------------------------------------------------------------------------------------------------------------------------|\n",
    "| Persistence of Vision  | Computer screens, movies and the lights in your house all flicker so quickly that they appear to be on all of the time but are actually blinking faster than the human eye can detect. See how much you can decrease the delay time in your program before the light appears to be on all the time but is still blinking. |\n",
    "| Morse Code             | Try changing the delays and adding more `led_pin.high()` and `led_pin.low()` commands to make your program blink a message in Morse code.                                                                                                      |\n",
    "\n",
    "## Troubleshooting\n",
    "\n",
    "| Problem                                      | Solution                                                                                                                                                                                                                                                                                                                                                                                                                                                                                                                                                                                                                  |\n",
    "|-----------------------------------------------|---------------------------------------------------------------------------------------------------------------------------------------------------------------------------------------------------------------------------------------------------------------------------------------------------------------------------------------------------------------------------------------------------------------------------------------------------------------------------------------------------------------------------------------------------------------------------------------------------------------------------|\n",
    "| I get an error when uploading my code         | Make sure you are connected to the correct serial port and have run all of the code cells in order in this Notebook. You can also try clicking the \"Restart kernel and run all cells\" button at the top of the page (⏩). This will make sure to run every cell and run them in order. Which Serial Port is the right one? Depending on how many devices you have plugged into your computer, you may have several active Serial Ports. A simple way to determine the correct one is to look at your list of Serial Ports. Unplug your RedBoard from your computer. Look at the list again. Whichever Serial Port has disappeared from the list is the one you want to select once you plug your board back in to your computer. |\n",
    "| My code uploads, but my LED won’t turn on     | LEDs will only work in one direction. Try taking it out of your breadboard, turning it 180 degrees, and reinserting it.                                                                                                                                                                                                                                                                                                                                                                                                                                                          |\n",
    "| Still not working?                           | Jumper wires unfortunately can go \"bad\" from getting bent too much. The copper wire inside can break, leaving an open connection in your circuit. If you are certain that your circuit is wired correctly and that your code is error-free and uploaded but you are still encountering issues, try replacing one or more of the jumper wires for the component that is not working.                                                                                                                                                                                               |\n",
    "\n",
    "## You've Completed Circuit 1A!\n",
    "\n",
    "Continue to circuit 1B to learn about analog signals and potentiometers\n",
    "\n",
    "![Next - Circuit B](images/sik-demo-prj1-ca-next.png)\n",
    "\n",
    "[![Next Project](images/next-circuit.png)](./SIK_Project1_CircuitB_Full.ipynb)"
   ]
  }
 ],
 "metadata": {
  "kernelspec": {
   "display_name": "MicroPython upydevice kernel",
   "language": "python",
   "name": "micropython-upydevice"
  },
  "language_info": {
   "codemirror_mode": "python",
   "file_extension": ".py",
   "mimetype": "text/x-python",
   "name": "python",
   "pygments_lexer": "python"
  }
 },
 "nbformat": 4,
 "nbformat_minor": 5
}
