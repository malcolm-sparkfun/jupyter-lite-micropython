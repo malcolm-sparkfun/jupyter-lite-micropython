{
 "cells": [
  {
   "cell_type": "markdown",
   "id": "2a2cd124-de0b-4f0f-b356-5fa46852a7db",
   "metadata": {},
   "source": [
    "# Connect to a MicroPython board and control the on-board LED"
   ]
  },
  {
   "cell_type": "markdown",
   "id": "f9363202-7679-436a-a645-ac929469705d",
   "metadata": {},
   "source": [
    "![SIK MicroPython](sik-banner-py.png)"
   ]
  },
  {
   "cell_type": "markdown",
   "id": "49b13a5d-383d-4d80-8153-4c56adee00c1",
   "metadata": {},
   "source": [
    "## Get the os/board info"
   ]
  },
  {
   "cell_type": "code",
   "execution_count": 2,
   "id": "348e29bf-a02f-47dc-aaca-6526eac7612d",
   "metadata": {},
   "outputs": [
    {
     "name": "stdout",
     "output_type": "stream",
     "text": [
     ]
    }
   ],
   "source": [
    "import os\n",
    "os.uname()"
   ]
  },
  {
   "cell_type": "markdown",
   "id": "05ca0022-63d3-4f74-904f-ca884c679567",
   "metadata": {},
   "source": [
    "### Enter a pythong statement\n",
    "This loop prints out values 0 to 9"
   ]
  },
  {
   "cell_type": "code",
   "execution_count": 3,
   "id": "a223ad6c-4036-4f0b-beec-94fbf472596a",
   "metadata": {},
   "outputs": [
    {
     "name": "stdout",
     "output_type": "stream",
     "text": [
      "\n",
      "0\n",
      "1\n",
      "2\n",
      "3\n",
      "4\n",
      "5\n",
      "6\n",
      "7\n",
      "8\n",
      "9\n",
      "10\n",
      "11\n"
     ]
    }
   ],
   "source": [
    "for i in range(12):\n",
    "    print(i)"
   ]
  },
  {
   "cell_type": "markdown",
   "id": "9ac083e6-5462-4c89-af93-0a3594ccd6ee",
   "metadata": {},
   "source": [
    "### Lets control the LED. \n",
    "**First:** Import our needed packages"
   ]
  },
  {
   "cell_type": "code",
   "execution_count": 2,
   "id": "bc63c5ca-8953-41a7-a8f3-eb6a1943013e",
   "metadata": {},
   "outputs": [
    {
     "name": "stdout",
     "output_type": "stream",
     "text": [
      "\n"
     ]
    }
   ],
   "source": [
    "import machine\n",
    "import neopixel\n",
    "import random\n",
    "import time"
   ]
  },
  {
   "cell_type": "markdown",
   "id": "00a8ca6e-a988-4ca2-a0eb-dcc9a52c09a9",
   "metadata": {},
   "source": [
    "Setup the on-board LED"
   ]
  },
  {
   "cell_type": "code",
   "execution_count": 5,
   "id": "f87f2801-0021-4458-a18a-c75ef0ee4927",
   "metadata": {},
   "outputs": [
    {
     "name": "stdout",
     "output_type": "stream",
     "text": [
      "\n"
     ]
    }
   ],
   "source": [
    "pin = machine.Pin(\"NEOPIXEL\")\n",
    "led = neopixel.NeoPixel(pin, 1) "
   ]
  },
  {
   "cell_type": "markdown",
   "id": "9107210d-d536-4127-9344-63a1a9a9c602",
   "metadata": {},
   "source": [
    "Set the LED to Red"
   ]
  },
  {
   "cell_type": "code",
   "execution_count": 7,
   "id": "72883320-0b87-4e8f-9ce3-2bf85493f7cb",
   "metadata": {},
   "outputs": [
    {
     "name": "stdout",
     "output_type": "stream",
     "text": [
      "\n"
     ]
    }
   ],
   "source": [
    "led[0] = (0,0,255)\n",
    "led.write()"
   ]
  },
  {
   "cell_type": "markdown",
   "id": "6be2f8f4-97d0-4035-9629-90f7c5ec9014",
   "metadata": {},
   "source": [
    "Turn off the led - set color to Black"
   ]
  },
  {
   "cell_type": "code",
   "execution_count": 8,
   "id": "a1929dfe-ba17-401c-9f11-8ae7777d5a7b",
   "metadata": {},
   "outputs": [
    {
     "name": "stdout",
     "output_type": "stream",
     "text": [
      "\n"
     ]
    }
   ],
   "source": [
    "led[0] = (0,0,0)\n",
    "led.write()"
   ]
  },
  {
   "cell_type": "markdown",
   "id": "39fae072-d799-47bd-8ba7-81afc25281d7",
   "metadata": {},
   "source": [
    "Define a \"blink function\""
   ]
  },
  {
   "cell_type": "code",
   "execution_count": 9,
   "id": "fea5bace-cab7-4ef7-9558-158e145d2bb8",
   "metadata": {},
   "outputs": [
    {
     "name": "stdout",
     "output_type": "stream",
     "text": [
      "\n"
     ]
    }
   ],
   "source": [
    "def blink_the_led(led, count=30):\n",
    "    \"\"\"\n",
    "    @brief Blink the LED with random colors of count times.\n",
    "\n",
    "    @param led The LED object to be controlled. It is expected to be a `neopixel.NeoPixel` object.\n",
    "    @param count The number of times to blink the LED. Default is 1.\n",
    "\n",
    "    \"\"\"\n",
    "\n",
    "    led[0] = (0, 0, 0)  # LED OFF\n",
    "    led.write()\n",
    "\n",
    "    for i in range(count):\n",
    "        # generate random RGB values - use a lower range to avoid too bright colors\n",
    "        R = random.randint(0, 180)\n",
    "        G = random.randint(0, 180)\n",
    "        B = random.randint(0, 180)\n",
    "\n",
    "        led[0] = (R, G, B)  # LED ON\n",
    "        led.write()\n",
    "\n",
    "        time.sleep_ms(200)\n",
    "\n",
    "        # restore the color\n",
    "        led[0] = [0, 0, 0]  # off\n",
    "        led.write()\n",
    "        time.sleep_ms(200//2)\n",
    "        print(\".\", end=\"\")"
   ]
  },
  {
   "cell_type": "markdown",
   "id": "de2e75a2-a333-4fc8-8cea-bb11771f290d",
   "metadata": {},
   "source": [
    "Blink the LED"
   ]
  },
  {
   "cell_type": "code",
   "execution_count": 10,
   "id": "e985f372-461c-4e27-816a-2a4a5e7e4ccc",
   "metadata": {},
   "outputs": [
    {
     "data": {
      "text/plain": [
       "...................."
      ]
     },
     "execution_count": 10,
     "metadata": {},
     "output_type": "execute_result"
    }
   ],
   "source": [
    "blink_the_led(led, 20)"
   ]
  },
  {
   "cell_type": "markdown",
   "id": "3bd2f182-78f6-4ee2-b134-ef1a9f66e3fe",
   "metadata": {},
   "source": [
    "Define a Fade in / Fade out function"
   ]
  },
  {
   "cell_type": "code",
   "execution_count": 11,
   "id": "19b4d2b4-c5ff-4e4a-84a9-9bd58798704c",
   "metadata": {},
   "outputs": [
    {
     "name": "stdout",
     "output_type": "stream",
     "text": [
      "\n"
     ]
    }
   ],
   "source": [
    "def fade_in_out(led, color, fade_time=1000):\n",
    "    \"\"\"\n",
    "    @brief Fade the LED in and out to a given color.\n",
    "\n",
    "    @param led The LED object to be controlled. It is expected to be a `neopixel.NeoPixel` object.\n",
    "    @param color The RGB color to fade to.\n",
    "    @param fade_time The time in milliseconds for the fade effect. Default is 1000 ms.\n",
    "\n",
    "    \"\"\"\n",
    "\n",
    "    # fade in\n",
    "    for i in range(0, 256):\n",
    "        led[0] = (int(color[0] * i / 255), int(color[1]\n",
    "                  * i / 255), int(color[2] * i / 255))\n",
    "        led.write()\n",
    "        time.sleep_ms(fade_time // 256)\n",
    "\n",
    "    # fade out\n",
    "    for i in range(255, -1, -1):\n",
    "        led[0] = (int(color[0] * i / 255), int(color[1]\n",
    "                  * i / 255), int(color[2] * i / 255))\n",
    "        led.write()\n",
    "        time.sleep_ms(fade_time // 256)"
   ]
  },
  {
   "cell_type": "markdown",
   "id": "3a04b258-a853-42ff-a343-92353aff5625",
   "metadata": {},
   "source": [
    "And a fade function that uses the in-out function"
   ]
  },
  {
   "cell_type": "code",
   "execution_count": 12,
   "id": "97e5b47d-52ff-4fbc-84b5-7e2be9f7944d",
   "metadata": {},
   "outputs": [],
   "source": [
    "def rgb_fade_example(led, count=10):\n",
    "    \"\"\"\n",
    "    @brief Fade the LED in and out random color\n",
    "\n",
    "    @param led The LED object to be controlled. It is expected to be a `neopixel.NeoPixel` object.\n",
    "    @param count The number of times to fade the LED. Default is 1.\n",
    "\n",
    "    \"\"\"\n",
    "\n",
    "    led[0] = (0, 0, 0)  # LED OFF\n",
    "    led.write()\n",
    "\n",
    "    for i in range(count):\n",
    "        # generate random RGB values - use a lower range to avoid too bright colors\n",
    "        R = random.randint(0, 255)\n",
    "        G = random.randint(0, 255)\n",
    "        B = random.randint(0, 255)\n",
    "\n",
    "        fade_in_out(led, (R, G, B))\n",
    "        print(\".\", end=\"\")\n"
   ]
  },
  {
   "cell_type": "markdown",
   "id": "36051600-f0b9-4745-8599-4286812ef9c6",
   "metadata": {},
   "source": [
    "Let's fade the LED in and Out"
   ]
  },
  {
   "cell_type": "code",
   "execution_count": 13,
   "id": "68b4b744-e1a9-4bf2-b02c-c4d93f0620fd",
   "metadata": {},
   "outputs": [
    {
     "data": {
      "text/plain": [
       ".........."
      ]
     },
     "execution_count": 13,
     "metadata": {},
     "output_type": "execute_result"
    }
   ],
   "source": [
    "rgb_fade_example(led)\n"
   ]
  },
  {
   "cell_type": "code",
   "execution_count": 14,
   "id": "add4d899-adfe-41c8-a17c-8e65d218dcce",
   "metadata": {},
   "outputs": [
    {
     "name": "stdout",
     "output_type": "stream",
     "text": [
      "Hi Jahnell\n"
     ]
    }
   ],
   "source": [
    "print(\"Hi Jahnell\")"
   ]
  },
  {
   "cell_type": "code",
   "execution_count": 15,
   "id": "93168a62-dcf9-4275-8d48-6d47c2a8566a",
   "metadata": {},
   "outputs": [
    {
     "name": "stdout",
     "output_type": "stream",
     "text": [
      "12\n"
     ]
    }
   ],
   "source": [
    "print(12)"
   ]
  },
  {
   "cell_type": "code",
   "execution_count": null,
   "id": "07aa091e-5fee-4c09-93fe-2ad3e372df67",
   "metadata": {},
   "outputs": [],
   "source": [
    "# this is a title"
   ]
  }
 ],
 "metadata": {
  "kernelspec": {
   "display_name": "MicroPython upydevice kernel",
   "language": "python",
   "name": "micropython-upydevice"
  },
  "language_info": {
   "codemirror_mode": "python",
   "file_extension": ".py",
   "mimetype": "text/x-python",
   "name": "python",
   "pygments_lexer": "python"
  }
 },
 "nbformat": 4,
 "nbformat_minor": 5
}
