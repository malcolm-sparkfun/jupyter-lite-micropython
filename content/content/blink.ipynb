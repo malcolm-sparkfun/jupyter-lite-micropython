{
 "cells": [
  {
   "metadata": {},
   "cell_type": "code",
   "outputs": [],
   "execution_count": null,
   "source": [
    "from machine import Pin\n",
    "import time\n",
    "\n",
    "led = Pin(12, Pin.OUT)\n",
    "\n",
    "while True:\n",
    "    led.value(1)  # Turn LED on\n",
    "    time.sleep(1)  # Wait for 1 second\n",
    "    led.value(0)  # Turn LED off\n",
    "    time.sleep(1)  # Wait for 1 second"
   ]
  },
  {
   "metadata": {},
   "cell_type": "code",
   "outputs": [],
   "execution_count": null,
   "source": ""
  }
 ],
 "metadata": {
  "kernelspec": {
   "display_name": "Python (Pyodide)",
   "language": "python",
   "name": "python"
  },
  "language_info": {
   "codemirror_mode": {
    "name": "python",
    "version": 3
   },
   "file_extension": ".py",
   "mimetype": "text/x-python",
   "name": "python",
   "nbconvert_exporter": "python",
   "pygments_lexer": "ipython3",
   "version": "3.8"
  },
  "orig_nbformat": 4
 },
 "nbformat": 4,
 "nbformat_minor": 4
}
