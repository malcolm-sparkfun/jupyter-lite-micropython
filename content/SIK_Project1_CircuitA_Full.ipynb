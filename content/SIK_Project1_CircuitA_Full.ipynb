{
 "cells": [
  {
   "cell_type": "markdown",
   "id": "f3918b49-9476-4415-a7e9-68539c202181",
   "metadata": {},
   "source": [
    "# Project 1 - Circuit 1A: Blinking an LED\n",
    "\n",
    "You can find LEDs in just about any source of light, from the bulbs lighting your home\n",
    "to the tiny status lights flashing on your home electronics. Blinking an LED is the\n",
    "classic starting point for learning how to program embedded electronics. It’s the\n",
    "“Hello, World!” of microcontrollers. In this circuit, you’ll write code that makes an LED blink on and off.\n",
    "\n",
    "![What you need](images/sik-demo-prj1-ca-need.png)\n",
    "\n",
    "## New Components\n",
    "\n",
    "### Light-Emitting Diodes (LEDs)\n",
    "\n",
    "LEDs are small lights made from a silicon diode. They come in different colors, brightnesses and sizes. LEDs (pronounced el-ee-dees)\n",
    "have a positive (+) leg and a negative (-) leg, and they will only let electricity flow through them in one direction. LEDs can also burn out if too much electricity flows through them, so you should always use a resistor to limit the current when you wire an LED into a circuit.\n",
    "\n",
    "![LEDs](images/sik-docs-prj1-ca-leds.png)\n",
    "\n",
    "### Resistors\n",
    "\n",
    "Resistors resist the flow of electricity. You can use them to protect sensitive\n",
    "components like LEDs. The strength of a resistor (measured in ohms) is marked on\n",
    "the body of the resistor using small colored bands. Each color stands for a number,\n",
    "which you can look up using a resistor chart. One can be found at the back of this book\n",
    "\n",
    "## New Concepts\n",
    "\n",
    "### Polarity\n",
    "\n",
    "Many electronics components have polarity, meaning electricity can (and\n",
    "should) flow through them in only one direction. Polarized components, like an LED, have a positive and a negative leg and only work when electricity flows\n",
    "through them in one direction. Some components, like resistors,\n",
    "do not have polarity; electricity can flow through them in either direction.\n",
    "\n",
    "![Plolarity](images/sik-docs-prj1-ca-polo.png)\n",
    "\n",
    "### OHM's Law\n",
    "\n",
    "**OHM’S LAW** describes the relationship between the three fundamental elements of electricity: **voltage**, **resistance** and **current**. This relationship can be represented by this equation:\n",
    "\n",
    "***V = I • R***\n",
    "\n",
    "**V** = Voltage in volts\n",
    "\n",
    "**I** = Current in amps\n",
    "\n",
    "**R** = Resistance in ohms (Ω)\n",
    "\n",
    "This equation is used to calculate what resistor values are suitable to sufficiently limit the current flowing to the LED so that it does not get too hot and burn out.\n",
    "\n",
    "### Digital Output \n",
    "\n",
    "![Digital Output Pins](images/sik-demo-prj1-ca-digout.png)\n",
    "\n",
    "\n",
    "When working with microcontrollers such as the RedBoard, there are a variety of pins to which you can connect electronic components. Knowing which pins perform which functions is important when building your circuit. In this circuit, we will be using what is known as a digital output. There are 14 of these pins found on the RedBoard. A digital output only has **two states: ON or OFF**. These two states can also be thought of as **HIGH or LOW, TRUE or FALSE**. When an LED is connected to one of these pins, the pin can only perform two jobs: turning on the LED and turning off the LED. We’ll explore the other pins and their functions in later circuits.\n",
    "\n",
    "\n",
    "##  New Ideas\n",
    "\n",
    "**ELECTRICAL SAFETY:** Never work on your circuits while the board is connected to\n",
    "a power source. The SparkFun RedBoard operates at 5 volts, which, while not enough to\n",
    "injure you, is enough to damage the components in your circuit. \n",
    "\n",
    "**COMPONENT ORIENTATION & POLARITY:** Instructions on how to orient each of\n",
    "the new components will be given before each circuit diagram. Many components have\n",
    "polarity and have only one correct orientation, while others are nonpolarized.\n",
    "\n",
    "![New Ideas](images/sik-demo-prj1-ca-new-ideas1.png)\n",
    "\n",
    "## Hookup Guide\n",
    "\n",
    "**READY TO START HOOKING EVERYTHING UP?** Check out the circuit diagram and\n",
    "hookup table below to see how everything is connected.\n",
    "\n",
    "![Hookup Diagram](images/sik-demo-prj1-ca-hookup-diag.png)\n",
    "\n",
    "### Hookup Tables\n",
    "\n",
    "Many electronics beginners find it helpful to have a coordinate system when building their circuits. For each circuit, you’ll find a hookup table that lists the coordinates of each component or wire and where it connects to the RedBoard, the breadboard, or both. The breadboard has a letter/number coordinate system, just like the game Battleship.\n",
    "\n",
    "![Hookup Diagram Example](images/sik-demo-prj1-ca-hu-ex.png)\n",
    "\n",
    "…means one end of a component connects to digital pin 34 on your RedBoard and\n",
    "the other connects to J2 on the breadboard\n",
    "\n",
    "![Hookup Diagram](images/sik-demo-prj1-ca-hu-table.png)\n",
    "\n",
    "\n"
   ]
  },
  {
   "cell_type": "markdown",
   "id": "1bd52930-d783-460a-923b-41a3c37d2f2b",
   "metadata": {},
   "source": [
    "## Blinking the LED\n",
    "\n",
    "Now that your circuit is build, it's time to blink the LED. This is done using MicroPython, which is running on the RedBoard.\n",
    "\n",
    "The first step is to connect your RedBoard to a USB port on this computer.\n",
    "\n",
    "Select the \"Connect\" button at the bottom right of this screen and a panel is displayed\n",
    "\n",
    "Select the \"Connect Device\" Button, and when the selection dialog appears, select the port with that displays ***Board in FS mode (...)*** or *TBD*\n",
    "\n",
    "![Select a Port](images/sik-demo-select-port.png)\n",
    "\n",
    "With the RedBoard connected, use the following MicroPython commands to blink the LED. \n",
    "\n",
    "### Using MicroPython\n",
    "\n",
    "The following MicroPython commands are entered to blink the LED on your board. \n",
    "\n",
    "**REMEMBER** To enter a MicroPython command, hold down either the Control (on Windows) or Command (on Mac) key when pressing *Enter*\n",
    "\n",
    "#### Step 1 - Setup\n",
    "\n",
    "To blink the LED, we need to enable the board pin **34** (the pin that the LED is connected to in the circuit).  \n",
    "\n",
    "To do this we **load the Pin definition for the board**\n",
    "\n"
   ]
  },
  {
   "cell_type": "code",
   "execution_count": null,
   "id": "4494b462-505b-4a23-8ebc-28b54152bd88",
   "metadata": {},
   "outputs": [],
   "source": [
    "from machine import Pin"
   ]
  },
  {
   "cell_type": "markdown",
   "id": "2d94be96-a8c9-4932-8111-58d10a8622a9",
   "metadata": {},
   "source": [
    "Now **create a Pin variable for the LED pin, number 34**. Also define it as an **output pin**, so we can turn it on and off"
   ]
  },
  {
   "cell_type": "code",
   "execution_count": null,
   "id": "432bb00a-9160-4e56-a08e-716ab922f60c",
   "metadata": {},
   "outputs": [],
   "source": [
    "led_pin = Pin(34, Pin.OUT)"
   ]
  },
  {
   "cell_type": "markdown",
   "id": "27ad33ac-2e51-409c-8a12-753da4384740",
   "metadata": {},
   "source": [
    "We turn the LED on by setting the pin value to **high** or on"
   ]
  },
  {
   "cell_type": "code",
   "execution_count": null,
   "id": "cd2ae013-674c-4f33-8827-8c3d672d07a5",
   "metadata": {},
   "outputs": [],
   "source": [
    "led_pin.high()"
   ]
  },
  {
   "cell_type": "markdown",
   "id": "f8c6243c-33b8-4eb1-8065-e22e5e6d3814",
   "metadata": {},
   "source": [
    "And to turn the LED off, we set the pin to **low**"
   ]
  },
  {
   "cell_type": "code",
   "execution_count": null,
   "id": "52a875da-ccd3-437d-b310-e2ce58de53bd",
   "metadata": {},
   "outputs": [],
   "source": [
    "led_pin.low()"
   ]
  },
  {
   "cell_type": "markdown",
   "id": "3cb0f029-afa4-4a0b-9846-cc874d67879a",
   "metadata": {},
   "source": [
    "To *blink* the LED, we can turn it on, wait a period of time and then turn it off. This is done by sleeping between the **on** and **off** commands. \n",
    "\n",
    "To do this in MicroPython, we need a sleep function. Let's load the **sleep** function, which will sleep for a number of seconds.."
   ]
  },
  {
   "cell_type": "code",
   "execution_count": null,
   "id": "73457bed-1444-4300-ba58-4809bf9068f8",
   "metadata": {},
   "outputs": [],
   "source": [
    "from time import sleep"
   ]
  },
  {
   "cell_type": "markdown",
   "id": "1ea7c7a6-7dfb-4bbd-bab5-da4b52af14bf",
   "metadata": {},
   "source": [
    "Now lets blink the LED - sleeping for 1 second between turning the LED on and off"
   ]
  },
  {
   "cell_type": "code",
   "execution_count": null,
   "id": "95e90c57-57d0-4e26-b8f8-0d4f0720b46a",
   "metadata": {},
   "outputs": [],
   "source": [
    "led_pin.high()\n",
    "sleep(1)\n",
    "led_pin.low()\n",
    "sleep(1)\n",
    "led_pin.high()\n",
    "sleep(1)\n",
    "led_pin.low()"
   ]
  },
  {
   "cell_type": "markdown",
   "id": "54d14da9-3d4f-4493-98a5-3dd0c025733f",
   "metadata": {},
   "source": [
    "Now we have blinked the LED! \n",
    "\n",
    "Now we'll present the idea of a **for loop**. A loop repeats a statement for a number of specified times. \n",
    "\n",
    "To blink our LED 10 times, use the following command:"
   ]
  },
  {
   "cell_type": "code",
   "execution_count": null,
   "id": "73237269-9f49-4145-b03d-7ba0f6bc8664",
   "metadata": {},
   "outputs": [],
   "source": [
    "for i in range(10):\n",
    "    led_pin.high()\n",
    "    sleep(1)\n",
    "    led_pin.low()\n",
    "    sleep(1)"
   ]
  },
  {
   "cell_type": "markdown",
   "id": "d91669fb-aea7-411c-927b-99724540a33c",
   "metadata": {},
   "source": [
    "When this command runs, it blinks the LED 10 times by setting the LED high, then low and sleeping inbetween each step. "
   ]
  },
  {
   "cell_type": "markdown",
   "id": "10d5c3fe-852f-42f7-8378-85dc8c8c7c3e",
   "metadata": {},
   "source": [
    "## You've Completed Circuit 1A!\n",
    "\n",
    "Continue to circuit 1B to learn about analog signals and potentiometers\n",
    "\n",
    "![Next - Circuit B](images/sik-demo-prj1-ca-next.png)"
   ]
  }
 ],
 "metadata": {
  "kernelspec": {
   "display_name": "MicroPython upydevice kernel",
   "language": "python",
   "name": "micropython-upydevice"
  },
  "language_info": {
   "codemirror_mode": "python",
   "file_extension": ".py",
   "mimetype": "text/x-python",
   "name": "python",
   "pygments_lexer": "python"
  }
 },
 "nbformat": 4,
 "nbformat_minor": 5
}
