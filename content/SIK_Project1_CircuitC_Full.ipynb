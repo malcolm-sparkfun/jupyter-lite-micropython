{
 "cells": [
  {
   "cell_type": "markdown",
   "id": "f3918b49-9476-4415-a7e9-68539c202181",
   "metadata": {},
   "source": [
    "# Project 1 - Circuit 1C: Photoresistor\n",
    "\n",
    "In circuit 1B, you got to use a potentiometer, which varies resistance based on the twisting of a knob. In this circuit you’ll be using a photoresistor, which changes resistance based on how much light the sensor receives. Using this sensor you can make a simple night-light that turns on when the room gets dark and turns off when it is bright.\n",
    "\n",
    "![What you need](images/sik-demo-prj1-cc-need.png)\n",
    "\n",
    "## New Components\n",
    "\n",
    "### Photoresistor\n",
    "Photoresistors, or [photocells](https://learn.sparkfun.com/tutorials/photocell-hookup-guide), are light-sensitive, variable resistors. As more light shines on the sensor’s head, the resistance between its two terminals decreases. They’re an easy-to-use component in projects that require ambient-light sensing.\n",
    "\n",
    "![potentiometer](images/sik-docs-prj1-cb-photoresistor.jpg)\n",
    "\n",
    "## New Concepts\n",
    "\n",
    "### Analog to Digital Conversion\n",
    "\n",
    "The world we live in is analog, but the RedBoard lives in a digital world. In order to have the RedBoard sense analog signals, we must first pass them through an [Analog to Digital Converter](https://learn.sparkfun.com/tutorials/analog-to-digital-conversion) (or ADC). The six analog inputs (A0--A5) covered in the last circuit all use an ADC. These pins \"sample\" the analog signal and create a digital signal for the microcontroller to interpret. The \"resolution\" of this signal is based on the resolution of the ADC. In the case of the RedBoard, that resolution is 16-bit. With a 16-bit ADC, we get 2 ^ 16 = 65536 possible values, which is why the analog signal varies between 0 and 65535.\n",
    "\n",
    "### Voltage Divider Continued\n",
    "Since the RedBoard can’t directly interpret resistance (rather, it reads voltage), we need to use a [voltage divider](https://learn.sparkfun.com/tutorials/voltage-dividers) to use our photoresistor, a part that doesn't output voltage. The resistance of the photoresistor changes as it gets darker or lighter. That changes the amount of voltage that is read on the analog pin, which \"divides\" the voltage, 5V in this case. That divided voltage is then read on the analog to digital converter.\n",
    "\n",
    "![VDivSchematic](images/sik-docs-prj1-cb-vdiv.png)\n",
    "\n",
    "![VDivPhoto](images/sik-docs-prj1-cc-vdiv-photo.png)\n",
    "\n",
    "*Top: A regular voltage divider circuit. Vout will be a constant voltage. Bottom: A variable voltage divider circuit. Vout will fluctuate as the resistance of the photoresistor changes.*\n",
    "\n",
    "The voltage divider equation assumes that you know three values of the above circuit: the input voltage (Vin), and both resistor values (R1 and R2). Given those values, we can use this equation to find the output voltage (Vout):\n",
    "\n",
    "![VDivEq](images/sik-docs-prj1-cc-equation.png)\n",
    "\n",
    "If R1 is a constant value (the resistor) and R2 fluctuates (the photoresistor), the amount of voltage measured on the Vout pin will also fluctuate.\n",
    "\n",
    "## Hardware Hookup\n",
    "\n",
    "Note that the photoresistor is not polarized. It can be inserted in either direction.\n",
    "\n",
    "Ready to start hooking everything up? Check out the circuit diagram and hookup table below to see how everything is connected.\n",
    "\n",
    "### Circuit Diagram\n",
    "![Hookup Diagram](images/sik-docs-prj1-cc-hookup.jpg)\n",
    "\n",
    "TODO: Get picture of actual redboard rp2350\n",
    "TODO: Swap out the resistor in the photo with a 330 ohm to match other res. For redboard A0 and a 10k res, it was saturated always reading 65535.\n",
    "\n",
    "**Note for Advanced Users:** If you know how to read datasheets and schematics, you can also refer to the schematic below as an alternative.\n",
    "\n",
    "![Hookup Schematic](images/sik-docs-prj1-cc-schem.jpg)\n",
    "\n",
    "### Hookup Table\n",
    "<style>\n",
    "    /* Applies to whole table */\n",
    "    .prj1-cc-hookup {\n",
    "        width: 70%;\n",
    "        text-align: center;\n",
    "        color: black;\n",
    "    }\n",
    "    /* Applies to the table header */\n",
    "    .prj1-cc-hookup th {\n",
    "        background: white;\n",
    "        word-wrap: break-word;\n",
    "        text-align: center;\n",
    "    }\n",
    "    /* First Row */\n",
    "    .prj1-cc-hookup tr:nth-child(1) td:nth-child(1) {background: #f2dede;} .prj1-cc-hookup tr:nth-child(1) td:nth-child(2) {background: #f5f5f5;} .prj1-cc-hookup tr:nth-child(1) td:nth-child(3) {background: #f5f5f5;}\n",
    "    /* Second Row */\n",
    "    .prj1-cc-hookup tr:nth-child(2) td:nth-child(1) {background: #DDDDDD;} .prj1-cc-hookup tr:nth-child(2) td:nth-child(2) {background: #f5f5f5;} .prj1-cc-hookup tr:nth-child(2) td:nth-child(3) {background: #f5f5f5;}\n",
    "    /* Third Row: Polarized LED Yellow Row */\n",
    "    .prj1-cc-hookup tr:nth-child(3) {background:rgb(247, 235, 177) !important; }\n",
    "    /* Fourth Row */\n",
    "    .prj1-cc-hookup tr:nth-child(4) td:nth-child(1) {background: white;} .prj1-cc-hookup tr:nth-child(4) td:nth-child(3) {background: #f5f5f5;} .prj1-cc-hookup tr:nth-child(4) td:nth-child(4) {background: #f5f5f5;}\n",
    "    /* Fifth Row */\n",
    "    .prj1-cc-hookup tr:nth-child(5) td:nth-child(1) {background: #DDDDDD;} .prj1-cc-hookup tr:nth-child(5) td:nth-child(3) {background: #f5f5f5;} .prj1-cc-hookup tr:nth-child(5) td:nth-child(4) {background: #f5f5f5;}\n",
    "    /* Sixth Row */\n",
    "    .prj1-cc-hookup tr:nth-child(6) td:nth-child(1) {background: rgb(247, 235, 177);} .prj1-cc-hookup tr:nth-child(6) td:nth-child(2) {background: #f5f5f5;} .prj1-cc-hookup tr:nth-child(6) td:nth-child(3) {background: #f5f5f5;}\n",
    "    /* Seventh Row */\n",
    "    .prj1-cc-hookup tr:nth-child(7) td:nth-child(1) {background: white;} .prj1-cc-hookup tr:nth-child(7) td:nth-child(3) {background: #f5f5f5;} .prj1-cc-hookup tr:nth-child(7) td:nth-child(4) {background: #f5f5f5;} .prj1-cc-hookup tr:nth-child(7) td:nth-child(5) {background: #f5f5f5;}\n",
    "    /* Eigth Row */\n",
    "    .prj1-cc-hookup tr:nth-child(8) td:nth-child(1) {background: white;} .prj1-cc-hookup tr:nth-child(8) td:nth-child(3) {background: #f5f5f5;} .prj1-cc-hookup tr:nth-child(8) td:nth-child(4) {background: #f5f5f5;} \n",
    "    /* Ninth Row */\n",
    "    .prj1-cc-hookup tr:nth-child(9) td:nth-child(1) {background: #D9EDF7;} .prj1-cc-hookup tr:nth-child(9) td:nth-child(2) {background: #f5f5f5;} .prj1-cc-hookup tr:nth-child(9) td:nth-child(3) {background: #f5f5f5;} \n",
    "    /* Tenth Row */\n",
    "    .prj1-cc-hookup tr:nth-child(10) td:nth-child(1) {background: #f2dede;} .prj1-cc-hookup tr:nth-child(10) td:nth-child(3) {background: #f5f5f5;} .prj1-cc-hookup tr:nth-child(10) td:nth-child(4) {background: #f5f5f5;}\n",
    "    /* Eleventh Row */\n",
    "    .prj1-cc-hookup tr:nth-child(11) td:nth-child(1) {background: #DDDDDD;} .prj1-cc-hookup tr:nth-child(11) td:nth-child(3) {background: #f5f5f5;} .prj1-cc-hookup tr:nth-child(11) td:nth-child(4) {background: #f5f5f5;}\n",
    "</style>\n",
    "\n",
    "<div class=\"prj1-cc-hookup\">\n",
    "\n",
    "| Component | RedBoard | Breadboard | Breadboard  |\n",
    "| -- | -- | -- | -- |\n",
    "| Jumper Wire | 5V | 5V Rail (+) | |\n",
    "| Jumper Wire | GND | GND Rail (-) | |\n",
    "| LED (POLARIZED!) | | A1 LED (-) | A2 LED(+) |\n",
    "| 330Ω Resistor (orange, orange, brown) | | E2 | F2 |\n",
    "| Jumper Wire | | E1 | GND Rail (-) |\n",
    "| Jumper Wire | Digital Pin 34 | J2 | |\n",
    "| Photoresistor | | A26 | B25 |\n",
    "| 330Ω Resistor (orange, orange, brown) | | C26 | D27 |\n",
    "| Jumper Wire | Analog Pin A0 | E26 | |\n",
    "| Jumper Wire | | E25 | 5V Rail (+) |\n",
    "| Jumper Wire | | E27 | GND Rail (-) |\n",
    "\n",
    "\n",
    "</div>\n"
   ]
  },
  {
   "cell_type": "markdown",
   "id": "1bd52930-d783-460a-923b-41a3c37d2f2b",
   "metadata": {},
   "source": [
    "## Reading the Photoresistor\n",
    "\n",
    "Now that your circuit is built, it's time to read the value from your photoresistor. This is done using MicroPython, which is running on the RedBoard.\n",
    "\n",
    "The first step is to connect your RedBoard to a USB port on this computer.\n",
    "\n",
    "Select the \"Connect\" button at the bottom right of this screen and a panel is displayed\n",
    "\n",
    "Select the \"Connect Device\" Button, and when the selection dialog appears, select the port with that displays ***Board in FS mode (...)*** or *TBD*\n",
    "\n",
    "![Select a Port](images/sik-demo-select-port.png)\n",
    "\n",
    "With the RedBoard connected, use the following MicroPython commands to blink the LED. \n",
    "\n",
    "### Using MicroPython\n",
    "\n",
    "The following MicroPython commands are entered to blink the LED on your board. \n",
    "\n",
    "**REMEMBER** To enter a MicroPython command, hold down either the Control (on Windows) or Command (on Mac) key when pressing *Enter*\n",
    "\n",
    "**Make sure for each notebook you run EVERY code cell presented and you run them in order.**\n",
    "\n",
    "An alternative is to click the \"Restart kernel and run all cells\" button at the top of the page (⏩). If you are connected to your board, this should automatically run every cell in order.\n",
    "\n",
    "#### Step 1 - Setup\n",
    "\n",
    "To blink the LED, we need to enable the board pin **34** (the pin that the LED is connected to in the circuit).  \n",
    "\n",
    "To do this we **load the Pin definition for the board**"
   ]
  },
  {
   "cell_type": "code",
   "execution_count": null,
   "id": "4494b462-505b-4a23-8ebc-28b54152bd88",
   "metadata": {},
   "outputs": [],
   "source": [
    "from machine import Pin # Allows us to use \"Pin\" to use code to interface with the pins on our board"
   ]
  },
  {
   "cell_type": "markdown",
   "id": "0ddfcd0c",
   "metadata": {},
   "source": [
    "Next, we **load the ADC object** to allow us to read our analog pin"
   ]
  },
  {
   "cell_type": "code",
   "execution_count": null,
   "id": "235392aa",
   "metadata": {},
   "outputs": [],
   "source": [
    "from machine import ADC # Allows us to use \"ADC\" (analog-to-digital conversion) to read from our analog pin"
   ]
  },
  {
   "cell_type": "markdown",
   "id": "c1e6f165",
   "metadata": {},
   "source": [
    "Now we declare our digital pin for the led and our \"ADC\" to read the analog pin for the photoresistor"
   ]
  },
  {
   "cell_type": "code",
   "execution_count": null,
   "id": "dda66c9a",
   "metadata": {},
   "outputs": [],
   "source": [
    "led_pin = Pin(34, Pin.OUT) # Create a pin variable for the led pin (pin 34)\n",
    "photoresistor = ADC(Pin.board.A0) # Create an ADC variable for reading the photoresistor value from analog pin A0"
   ]
  },
  {
   "cell_type": "markdown",
   "id": "362bb399",
   "metadata": {},
   "source": [
    "Now, we can read from A0 to read the potentiometer value:"
   ]
  },
  {
   "cell_type": "code",
   "execution_count": null,
   "id": "c0634bd0",
   "metadata": {},
   "outputs": [],
   "source": [
    "# Try moving the potentiometer and re-running this cell and you should see this value change.\n",
    "print(photoresistor.read_u16()) # Use the \"read_u16\" method to read the value of our potentiometer."
   ]
  },
  {
   "cell_type": "markdown",
   "id": "2d94be96-a8c9-4932-8111-58d10a8622a9",
   "metadata": {},
   "source": [
    "Now let's create an infinite loop and turn on the LED when the photoresistor reads under a certain value and turn it off when it reads over a certain value. That way it can act as a night light."
   ]
  },
  {
   "cell_type": "code",
   "execution_count": null,
   "id": "432bb00a-9160-4e56-a08e-716ab922f60c",
   "metadata": {},
   "outputs": [],
   "source": [
    "# Now, let's turn the LED on and off based on the photoresistor value.\n",
    "import time # Allows us to use \"time.sleep()\" to delay for a certain number of seconds\n",
    "\n",
    "# We'll set our threshold to half of the maximum value of the ADC reading (65535)\n",
    "threshold = 65535 / 2 \n",
    "\n",
    "# Infinite loop so this cell keeps running until we stop it.\n",
    "while True:\n",
    "    photoValue = photoresistor.read_u16() # Get the new photoresistor value (0 - 65535)\n",
    "\n",
    "    print(f\"Photoresistor Value: {photoValue : 5}\", end='\\r') # Print our Photoresistor reading (don't mind the fanciness of this line it just makes the print format nicely)\n",
    "\n",
    "    # Turn on the LED but only if the photoresistor value is above the threshold\n",
    "    if photoValue > threshold:\n",
    "        led_pin.high()\n",
    "    else:\n",
    "        led_pin.low()\n",
    "\n",
    "    # A short delay to make the printout easier to read\n",
    "    time.sleep(0.250)"
   ]
  },
  {
   "cell_type": "markdown",
   "id": "2d66fe16",
   "metadata": {},
   "source": [
    "## What You Should See\n",
    "The program stores the light level in a variable. Then, using an if/else statement, the program checks to see what it should do with the LED. If the variable is above the threshold (it’s bright), turn the LED off. If the variable is below the threshold (it’s dark), turn the LED on. You now have just built your own night-light!"
   ]
  },
  {
   "cell_type": "markdown",
   "id": "10d5c3fe-852f-42f7-8378-85dc8c8c7c3e",
   "metadata": {},
   "source": [
    "## Coding Challenges\n",
    "Challenge | Description\n",
    "--- | ---\n",
    "Response Pattern | Right now your `if` statement turns the LED on when it gets dark, but you can also use the light sensor like a no-touch button. Try using `low()`, `high()` and `sleep()` to make the LED blink a pattern when the light level drops, then calibrate the threshold variable in the code so that the blink pattern triggers when you wave your hand over the sensor.\n",
    "Replace Photoresistor's 330Ω Resistor with LED. | Alter the circuit be replacing the 330Ω resistor with an LED (the negative leg should connect to GND). Now what happens when you place your finger over the photoresistor? This is a great way to see Ohm's law in action by visualizing the change in resistance's affect on the current flowing through the LED.\n",
    "\n",
    "## Troubleshooting\n",
    "| Problem | Solution |\n",
    "| --- | --- |\n",
    "| The light never turns on or always stays on | Look at the value that the photoresistor is reading in a bright room (e.g., 915). Cover the photoresistor, or turn the lights off. Then look at the new value that the photoresistor is reading (e.g., 550). Set the threshold in between these two numbers (e.g., 700) so that the reading is above the threshold when the lights are on and below the threshold when the lights are off. |\n",
    "| Nothing is printing. | Try unplugging your USB cable and plugging it back in. Make sure you are connected to the correct serial port and have run all of the code cells in order in this Notebook. You can also try clicking the \"Restart kernel and run all cells\" button at the top of the page (⏩). |\n",
    "\n",
    "## You've Completed Circuit 1C!\n",
    "\n",
    "Continue to circuit 1D to learn about RGB LEDs\n",
    "\n",
    "![Next - Circuit D](images/sik-demo-prj1-cc-next.png)"
   ]
  }
 ],
 "metadata": {
  "kernelspec": {
   "display_name": "MicroPython upydevice kernel",
   "language": "python",
   "name": "micropython-upydevice"
  },
  "language_info": {
   "codemirror_mode": "python",
   "file_extension": ".py",
   "mimetype": "text/x-python",
   "name": "python",
   "pygments_lexer": "python"
  }
 },
 "nbformat": 4,
 "nbformat_minor": 5
}
