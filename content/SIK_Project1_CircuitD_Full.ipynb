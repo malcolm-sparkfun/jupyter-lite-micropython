{
 "cells": [
  {
   "cell_type": "markdown",
   "id": "f3918b49-9476-4415-a7e9-68539c202181",
   "metadata": {},
   "source": [
    "# Project 1 - Circuit 1D: RGB Night-Light\n",
    "\n",
    "In this circuit, you'll take the night-light concept to the next level by adding an RGB LED, which is three differently colored Light-Emitting Diodes (LEDs) built into one component. RGB stands for Red, Green and Blue, and these three colors can be combined to create any color of the rainbow!\n",
    "\n",
    "![What you need](images/sik-demo-prj1-cc-need.png)\n",
    "\n",
    "## New Components\n",
    "\n",
    "### RGB LED\n",
    "An RGB LED is actually three small LEDs --- one red, one green and one blue --- inside a normal LED housing. The RGB LED included in this kit has all the internal LEDs share the same ground wire, so there are four legs in total. To turn one color on, ensure ground is connected, then power one of the legs just as you would a regular LED. If you turn on more than one color at a time, you will see the colors start to blend together to form a new color.\n",
    "\n",
    "![rgb](images/sik-demo-prj1-cd-rgb.png)\n",
    "\n",
    "## New Concepts\n",
    "\n",
    "### Analog Output (Pulse-width Modulation)\n",
    "\n",
    "You can use the digital pins with the high() and low() commands to turn pins on the RedBoard on (5V) or off (0V), but what if you want to output 2.5V? The RedBoard doesn't have an Analog Output, but it is really good at switching some digital pins on and off fast enough to simulate an analog output. PWM() can output 2.5 volts by quickly switching a pin on and off so that the pin is only on 50 percent of the time (50% of 5V is 2.5V). By changing the percent of time that a pin is on, from 0 percent (always off) to 100 percent (always on), PWM objects can output any voltage between 0 and 5V. This is what is known as [pulse-width modulation](https://learn.sparkfun.com/tutorials/pulse-width-modulation) (or PWM). By using PWM, you can create many different colors with the RGB LED.\n",
    "\n",
    "### Creating Your own Simple Functions\n",
    "When programmers want to use a piece of code over and over again, they write a function. The simplest functions are just chunks of code that you give a name to. When you want to run that code, you can “call” the function by typing its name, instead of writing out all of the code. More complicated functions take and return pieces of information from the program (we call these pieces of information parameters). In this circuit, you'll write functions to turn the RGB LED different colors by just typing that color's name.\n",
    "\n",
    "## Hardware Hookup\n",
    "\n",
    "*WARNING: The RGB LED is polarized. It needs to be inserted in the correct direction*\n",
    "\n",
    "Just like a regular LED, an RGB LED is polarized and only allows electricity to flow in one direction. Pay close attention to the flat edge and to the different length leads. Both are indicators to help orient the LED correctly.\n",
    "\n",
    "![RGBPolarity](images/sik-docs-prj1-cd-rgb-polarity.png)\n",
    "\n",
    "Ready to start hooking everything up? Check out the circuit diagram and hookup table below to see how everything is connected.\n",
    "\n",
    "### Circuit Diagram\n",
    "![Hookup Diagram](images/sik-docs-prj1-cd-circuit.jpg)\n",
    "\n",
    "TODO: Get picture of actual redboard rp2350\n",
    "\n",
    "**Note for Advanced Users:** If you know how to read datasheets and schematics, you can also refer to the schematic below as an alternative.\n",
    "\n",
    "![Hookup Schematic](images/sik-docs-prj1-cd-schem.jpg)\n",
    "\n",
    "### Hookup Table\n",
    "<style>\n",
    "/* Applies to whole table */\n",
    ".prj1-cd-hookup {\n",
    "    width: 70%;\n",
    "    text-align: center;\n",
    "    color: black;\n",
    "}\n",
    "/* Applies to the table header */\n",
    ".prj1-cd-hookup th {\n",
    "    background: white;\n",
    "    word-wrap: break-word;\n",
    "    text-align: center;\n",
    "}\n",
    "\n",
    "/* Row 1: whole row yellow */\n",
    ".prj1-cd-hookup tr:nth-child(1) {background: rgb(247, 235, 177) !important; } /* First Row (whole row yellow) */\n",
    "\n",
    "/* Row 2: white, nothing, gray, gray */\n",
    ".prj1-cd-hookup tr:nth-child(2) td:nth-child(1) {background: white;} .prj1-cd-hookup tr:nth-child(2) td:nth-child(3) {background: #f5f5f5;} .prj1-cd-hookup tr:nth-child(2) td:nth-child(4) {background: #f5f5f5;}\n",
    "\n",
    "/* Row 3: white, nothing, gray, gray */\n",
    ".prj1-cd-hookup tr:nth-child(3) td:nth-child(1) {background: white;} .prj1-cd-hookup tr:nth-child(3) td:nth-child(3) {background: #f5f5f5;} .prj1-cd-hookup tr:nth-child(3) td:nth-child(4) {background: #f5f5f5;}\n",
    "\n",
    "/* Row 4: white, nothing, gray, gray */\n",
    ".prj1-cd-hookup tr:nth-child(4) td:nth-child(1) {background: white;} .prj1-cd-hookup tr:nth-child(4) td:nth-child(3) {background: #f5f5f5;} .prj1-cd-hookup tr:nth-child(4) td:nth-child(4) {background: #f5f5f5;}\n",
    "\n",
    "/* Row 5: dark gray, nothing, gray, gray */\n",
    ".prj1-cd-hookup tr:nth-child(5) td:nth-child(1) {background: #A9A9A9;} .prj1-cd-hookup tr:nth-child(5) td:nth-child(3) {background: #f5f5f5;} .prj1-cd-hookup tr:nth-child(5) td:nth-child(4) {background: #f5f5f5;}\n",
    "\n",
    "/* Row 6: red, gray, gray */\n",
    ".prj1-cd-hookup tr:nth-child(6) td:nth-child(1) {background: #F2DEDE;} .prj1-cd-hookup tr:nth-child(6) td:nth-child(2) {background: #f5f5f5;} .prj1-cd-hookup tr:nth-child(6) td:nth-child(3) {background: #f5f5f5;}\n",
    "\n",
    "/* Row 7: green, gray, gray, gray, gray */\n",
    ".prj1-cd-hookup tr:nth-child(7) td:nth-child(1) {background: #DFF0D8;} .prj1-cd-hookup tr:nth-child(7) td:nth-child(2) {background: #f5f5f5;} .prj1-cd-hookup tr:nth-child(7) td:nth-child(3) {background: #f5f5f5;} \n",
    "\n",
    "/* Row 8: blue, gray, gray, gray */\n",
    ".prj1-cd-hookup tr:nth-child(8) td:nth-child(1) {background: #D9EDF7;} .prj1-cd-hookup tr:nth-child(8) td:nth-child(2) {background: #f5f5f5;} .prj1-cd-hookup tr:nth-child(8) td:nth-child(3) {background: #f5f5f5;} \n",
    "\n",
    "/* Row 9: red, gray, gray, gray */\n",
    ".prj1-cd-hookup tr:nth-child(9) td:nth-child(1) {background: #F2DEDE;} .prj1-cd-hookup tr:nth-child(9) td:nth-child(2) {background: #f5f5f5;} .prj1-cd-hookup tr:nth-child(9) td:nth-child(3) {background: #f5f5f5;} \n",
    "\n",
    "/* Row 10: dark gray, gray, gray, gray */\n",
    ".prj1-cd-hookup tr:nth-child(10) td:nth-child(1) {background: #A9A9A9;} .prj1-cd-hookup tr:nth-child(10) td:nth-child(2) {background: #f5f5f5;} .prj1-cd-hookup tr:nth-child(10) td:nth-child(3) {background: #f5f5f5;} \n",
    "\n",
    "/* Row 11: white, nothing, gray, gray, gray */\n",
    ".prj1-cd-hookup tr:nth-child(11) td:nth-child(1) {background: white;} .prj1-cd-hookup tr:nth-child(11) td:nth-child(3) {background: #f5f5f5;} .prj1-cd-hookup tr:nth-child(11) td:nth-child(4) {background: #f5f5f5;} .prj1-cd-hookup tr:nth-child(11) td:nth-child(5) {background: #f5f5f5;}\n",
    "\n",
    "/* Row 12: blue, gray, gray, gray, gray */\n",
    ".prj1-cd-hookup tr:nth-child(12) td:nth-child(1) {background: #D9EDF7;} .prj1-cd-hookup tr:nth-child(12) td:nth-child(2) {background: #f5f5f5;} .prj1-cd-hookup tr:nth-child(12) td:nth-child(3) {background: #f5f5f5;}\n",
    "\n",
    "/* Row 13: red, nothing, gray, gray, gray */\n",
    ".prj1-cd-hookup tr:nth-child(13) td:nth-child(1) {background: #F2DEDE;} .prj1-cd-hookup tr:nth-child(13) td:nth-child(3) {background: #f5f5f5;} .prj1-cd-hookup tr:nth-child(13) td:nth-child(4) {background: #f5f5f5;}\n",
    "\n",
    "/* Row 14: dark gray, nothing, gray, gray */\n",
    ".prj1-cd-hookup tr:nth-child(14) td:nth-child(1) {background: #A9A9A9;} .prj1-cd-hookup tr:nth-child(14) td:nth-child(3) {background: #f5f5f5;} .prj1-cd-hookup tr:nth-child(14) td:nth-child(4) {background: #f5f5f5;}\n",
    "\n",
    "/* Row 15: white, nothing, gray, gray */\n",
    ".prj1-cd-hookup tr:nth-child(15) td:nth-child(1) {background: white;} .prj1-cd-hookup tr:nth-child(15) td:nth-child(3) {background: #f5f5f5;} .prj1-cd-hookup tr:nth-child(15) td:nth-child(4) {background: #f5f5f5;}\n",
    "\n",
    "/* Row 16: white, nothing, gray, gray */\n",
    ".prj1-cd-hookup tr:nth-child(16) td:nth-child(1) {background: white;} .prj1-cd-hookup tr:nth-child(16) td:nth-child(3) {background: #f5f5f5;} .prj1-cd-hookup tr:nth-child(16) td:nth-child(4) {background: #f5f5f5;}\n",
    "\n",
    "/* Row 17: blue, gray, gray */\n",
    ".prj1-cd-hookup tr:nth-child(17) td:nth-child(1) {background: #D9EDF7;} .prj1-cd-hookup tr:nth-child(17) td:nth-child(2) {background: #f5f5f5;} .prj1-cd-hookup tr:nth-child(17) td:nth-child(3) {background: #f5f5f5;}\n",
    "\n",
    "/* Row 18: red, nothing, gray, gray */\n",
    ".prj1-cd-hookup tr:nth-child(18) td:nth-child(1) {background: #F2DEDE;} .prj1-cd-hookup tr:nth-child(18) td:nth-child(3) {background: #f5f5f5;} .prj1-cd-hookup tr:nth-child(18) td:nth-child(4) {background: #f5f5f5;}\n",
    "\n",
    "/* Row 19: dark gray, nothing, gray, gray */\n",
    ".prj1-cd-hookup tr:nth-child(19) td:nth-child(1) {background: #A9A9A9;} .prj1-cd-hookup tr:nth-child(19) td:nth-child(3) {background: #f5f5f5;} .prj1-cd-hookup tr:nth-child(19) td:nth-child(4) {background: #f5f5f5;}\n",
    "\n",
    "</style>\n",
    "\n",
    "<div class=\"prj1-cd-hookup\">\n",
    "\n",
    "| Component | RedBoard | Breadboard | Breadboard  | | |\n",
    "| -- | -- | -- | -- | -- | -- |\n",
    "| RGB LED (POLARIZED!) | | A5 (Red) | A4 (GND) | A3 (Green) | A2 (Blue) |\n",
    "| 330Ω Resistor (orange, orange, brown) | | E2 | F2 | | |\n",
    "| 330Ω Resistor (orange, orange, brown) | | E3 | F3 | | |\n",
    "| 330Ω Resistor (orange, orange, brown) | | E5 | F5 | | |\n",
    "| Jumper Wire | | E4 | GND Rail (-) | | |\n",
    "| Jumper Wire | Digital Pin TODO | J5 | | | |\n",
    "| Jumper Wire | Digital Pin TODO | J3 | | | |\n",
    "| Jumper Wire | Digital Pin TODO | J2 | | | |\n",
    "| Jumper Wire | 5V | 5V Rail (+) | | | |\n",
    "| Jumper Wire | GND | GND Rail (-) | | | |\n",
    "| Potentiometer | | B15 | B16 | B17 | |\n",
    "| Jumper Wire | Analog Pin TODO | E16 | | | |\n",
    "| Jumper Wire | | E15 | 5V Rail (+) | | |\n",
    "| Jumper Wire | | E17 | GND Rail (-) | | |\n",
    "| Photoresistor | | A26 | B25 | | |\n",
    "| 330Ω Resistor (orange, orange, brown) | | C26 | D27 | | |\n",
    "| Jumper Wire | Analog Pin A0 | E26 | | | |\n",
    "| Jumper Wire | | E25 | 5V Rail (+) | | |\n",
    "| Jumper Wire | | E27 | GND Rail (-) | | |\n",
    "\n",
    "\n",
    "</div>\n"
   ]
  },
  {
   "cell_type": "markdown",
   "id": "1bd52930-d783-460a-923b-41a3c37d2f2b",
   "metadata": {},
   "source": [
    "## Writing to the RGB LED\n",
    "\n",
    "Now that your circuit is build, it's time to read the value from your photoresistor. This is done using MicroPython, which is running on the RedBoard.\n",
    "\n",
    "The first step is to connect your RedBoard to a USB port on this computer.\n",
    "\n",
    "Select the \"Connect\" button at the bottom right of this screen and a panel is displayed\n",
    "\n",
    "Select the \"Connect Device\" Button, and when the selection dialog appears, select the port with that displays ***Board in FS mode (...)*** or *TBD*\n",
    "\n",
    "![Select a Port](images/sik-demo-select-port.png)\n",
    "\n",
    "With the RedBoard connected, use the following MicroPython commands to blink the LED. \n",
    "\n",
    "### Using MicroPython\n",
    "\n",
    "The following MicroPython commands are entered to blink the LED on your board. \n",
    "\n",
    "**REMEMBER** To enter a MicroPython command, hold down either the Control (on Windows) or Command (on Mac) key when pressing *Enter*\n",
    "\n",
    "#### Step 1 - Setup\n",
    "\n",
    "To blink the LED, we need to enable the board pin **34** (the pin that the LED is connected to in the circuit).  \n",
    "\n",
    "To do this we **load the Pin definition for the board**"
   ]
  },
  {
   "cell_type": "code",
   "execution_count": null,
   "id": "4494b462-505b-4a23-8ebc-28b54152bd88",
   "metadata": {},
   "outputs": [],
   "source": [
    "from machine import Pin # Allows us to use \"Pin\" to use code to interface with the pins on our board"
   ]
  },
  {
   "cell_type": "markdown",
   "id": "0ddfcd0c",
   "metadata": {},
   "source": [
    "Next, we **load the ADC object** to allow us to read our analog pins"
   ]
  },
  {
   "cell_type": "code",
   "execution_count": null,
   "id": "235392aa",
   "metadata": {},
   "outputs": [],
   "source": [
    "from machine import ADC # Allows us to use \"ADC\" (analog-to-digital conversion) to read from our analog pin"
   ]
  },
  {
   "cell_type": "markdown",
   "id": "5fb2fba9",
   "metadata": {},
   "source": [
    "Next, we *load the PWM* object to allow us to write different colors to our RGB LED by changing the percent of time that a pin is high or low."
   ]
  },
  {
   "cell_type": "code",
   "execution_count": null,
   "id": "7194f555",
   "metadata": {},
   "outputs": [],
   "source": [
    "from machine import PWM # Allows us to use \"PWM\" (pulse-width modulation) to control the brightness of our LED"
   ]
  },
  {
   "cell_type": "markdown",
   "id": "c1e6f165",
   "metadata": {},
   "source": [
    "Now, let's create our PWM objects that we'll use later to set colors for the RGB LED."
   ]
  },
  {
   "cell_type": "code",
   "execution_count": null,
   "id": "af6ffeca",
   "metadata": {},
   "outputs": [],
   "source": [
    "pwmBlue  = PWM(Pin(32), freq=1000, duty_u16=0) # Create a PWM object on pin 28 with a frequency of 1000Hz and an initial \"on time\" of 0 (off)\n",
    "pwmGreen = PWM(Pin(30), freq=1000, duty_u16=0) # Create a PWM object on pin 27 with a frequency of 1000Hz and an initial \"on time\" of 0 (off)\n",
    "pwmRed   = PWM(Pin(28), freq=1000, duty_u16=0) # Create a PWM object on pin 26 with a frequency of 1000Hz and an initial \"on time\" of 0 (off)"
   ]
  },
  {
   "cell_type": "markdown",
   "id": "b2bc2236",
   "metadata": {},
   "source": [
    "Next, lets create our own *functions* for controlling color. Functions contain several lines of code that we want to reuse often without typing all of them out every time. For example, we would love to set the led to \"blue\" without having to type three lines of code every time. By putting the lines of code in a function, we just have to type that function's name to call those three lines of code. \n",
    "\n",
    "TODO: Maybe make this less verbose or remove it...\n",
    "Functions also keep repeated code in the same place. Imagine we wanted to change something about the way our \"blue\" function behaved. If we had repeated the three lines of code in several places of our program, we would have to fix it for each of those places. But with a function, we would correct it once in our function and leave all the places that function was used untouched."
   ]
  },
  {
   "cell_type": "code",
   "execution_count": null,
   "id": "1cf63462",
   "metadata": {},
   "outputs": [],
   "source": [
    "# Let's create functions for various colors that we can call later\n",
    "\n",
    "# Since our PWM \"on time\" or duty cycle is 16 bits, it is a value between 0 and 65535.\n",
    "# It's useful to store a variable for maximum brightness so we can use percentages of it easily.\n",
    "kMaximumBrightness = 65535  # Maximum brightness value for PWM\n",
    "\n",
    "# These are \"functions\" that we can \"call\" to set the color of the LED.\n",
    "# Notice the \"def\" keyword, which is used to define a function in Python.\n",
    "# Now, we can call these later by just typing their names like `red()`, `green()`, etc.\n",
    "# And all the code inside the function will run.\n",
    "\n",
    "def red():\n",
    "    # The \"duty_u16\" method sets the duty cycle or \"on time\" for the PWM pin.\n",
    "    pwmRed.duty_u16(kMaximumBrightness)  # Set the red LED to full brightness\n",
    "    pwmGreen.duty_u16(0)    # Turn off the green LED\n",
    "    pwmBlue.duty_u16(0)     # Turn off the blue LED\n",
    "\n",
    "def orange():\n",
    "    pwmRed.duty_u16(kMaximumBrightness)  # Set the red LED to full brightness\n",
    "    pwmGreen.duty_u16(int(kMaximumBrightness * 0.25))  # Set the green LED to quarter brightness (by multiplying by 0.5)\n",
    "    pwmBlue.duty_u16(0)     # Turn off the blue LED\n",
    "\n",
    "def yellow():\n",
    "    pwmRed.duty_u16(kMaximumBrightness)  # Set the red LED to full brightness\n",
    "    pwmGreen.duty_u16(kMaximumBrightness)  # Set the green LED to full brightness\n",
    "    pwmBlue.duty_u16(0)     # Turn off the blue LED\n",
    "\n",
    "def green():\n",
    "    pwmRed.duty_u16(0)      # Turn off the red LED\n",
    "    pwmGreen.duty_u16(kMaximumBrightness)  # Set the green LED to full brightness\n",
    "    pwmBlue.duty_u16(0)     # Turn off the blue LED\n",
    "\n",
    "def cyan():\n",
    "    pwmRed.duty_u16(0)      # Turn off the red LED\n",
    "    pwmGreen.duty_u16(kMaximumBrightness)  # Set the green LED to full brightness\n",
    "    pwmBlue.duty_u16(kMaximumBrightness)  # Set the blue LED to full brightness\n",
    "\n",
    "def blue():\n",
    "    pwmRed.duty_u16(0)      # Turn off the red LED\n",
    "    pwmGreen.duty_u16(0)    # Turn off the green LED\n",
    "    pwmBlue.duty_u16(kMaximumBrightness)  # Set the blue LED to full brightness\n",
    "\n",
    "def magenta():\n",
    "    pwmRed.duty_u16(kMaximumBrightness)  # Set the red LED to full brightness\n",
    "    pwmGreen.duty_u16(0)    # Turn off the green LED\n",
    "    pwmBlue.duty_u16(kMaximumBrightness)  # Set the blue LED to full brightness\n",
    "\n",
    "def turnOff():\n",
    "    pwmRed.duty_u16(0)      # Turn off the red LED\n",
    "    pwmGreen.duty_u16(0)    # Turn off the green LED\n",
    "    pwmBlue.duty_u16(0)     # Turn off the blue LED"
   ]
  },
  {
   "cell_type": "markdown",
   "id": "e5d98c6a",
   "metadata": {},
   "source": [
    "Now lets try turning our LED Red, by calling our first function!"
   ]
  },
  {
   "cell_type": "code",
   "execution_count": null,
   "id": "69cfb4f3",
   "metadata": {},
   "outputs": [],
   "source": [
    "# Call our \"red\" function from above and all of the line of code inside it will run, which will turn the LED to red\n",
    "red()\n",
    "\n",
    "# Try messing with the other functions by calling them instead of `red()`.\n",
    "# For example, you can try `green()`, `blue()`, `yellow()`, etc."
   ]
  },
  {
   "cell_type": "code",
   "execution_count": null,
   "id": "dda66c9a",
   "metadata": {},
   "outputs": [],
   "source": [
    "led_pin = Pin(34, Pin.OUT) # Create a pin variable for the led pin (pin 34)\n",
    "photoresistor = ADC(Pin.board.A0) # Create an ADC variable for reading the photoresistor value from analog pin A0"
   ]
  },
  {
   "cell_type": "markdown",
   "id": "362bb399",
   "metadata": {},
   "source": [
    "Now, we can read from A0 to read the potentiometer value:"
   ]
  },
  {
   "cell_type": "code",
   "execution_count": null,
   "id": "c0634bd0",
   "metadata": {},
   "outputs": [],
   "source": [
    "# Try moving the potentiometer and re-running this cell and you should see this value change.\n",
    "print(photoresistor.read_u16()) # Use the \"read_u16\" method to read the value of our potentiometer."
   ]
  },
  {
   "cell_type": "markdown",
   "id": "2d94be96-a8c9-4932-8111-58d10a8622a9",
   "metadata": {},
   "source": [
    "Now let's create an infinite loop and turn on the LED when the photoresistor reads under a certain value and turn it off when it reads over a certain value. That way it can act as a night light."
   ]
  },
  {
   "cell_type": "code",
   "execution_count": null,
   "id": "432bb00a-9160-4e56-a08e-716ab922f60c",
   "metadata": {},
   "outputs": [],
   "source": [
    "# Now, let's turn the LED on and off based on the photoresistor value.\n",
    "import time # Allows us to use \"time.sleep()\" to delay for a certain number of seconds\n",
    "\n",
    "# We'll set our threshold to half of the maximum value of the ADC reading (65535)\n",
    "threshold = 65535 / 2 \n",
    "\n",
    "# Infinite loop so this cell keeps running until we stop it.\n",
    "while True:\n",
    "    photoValue = photoresistor.read_u16() # Get the new photoresistor value (0 - 65535)\n",
    "\n",
    "    print(f\"Photoresistor Value: {photoValue : 5}\", end='\\r') # Print our Photoresistor reading (don't mind the fanciness of this line it just makes the print format nicely)\n",
    "\n",
    "    # Turn on the LED but only if the photoresistor value is above the threshold\n",
    "    if photoValue > threshold:\n",
    "        led_pin.high()\n",
    "    else:\n",
    "        led_pin.low()\n",
    "\n",
    "    # A short delay to make the printout easier to read\n",
    "    time.sleep(0.250)"
   ]
  },
  {
   "cell_type": "markdown",
   "id": "2d66fe16",
   "metadata": {},
   "source": [
    "## What You Should See\n",
    "The program stores the light level in a variable. Then, using an if/else statement, the program checks to see what it should do with the LED. If the variable is above the threshold (it’s bright), turn the LED off. If the variable is below the threshold (it’s dark), turn the LED on. You now have just built your own night-light!"
   ]
  },
  {
   "cell_type": "markdown",
   "id": "10d5c3fe-852f-42f7-8378-85dc8c8c7c3e",
   "metadata": {},
   "source": [
    "## You've Completed Circuit 1D!\n",
    "\n",
    "## You've Also Completed all of Project 1!\n",
    "\n",
    "Get ready to have some fun with sound in project 2.\n",
    "\n",
    "![Next - Circuit D](images/sik-demo-prj1-cd-next.png)"
   ]
  }
 ],
 "metadata": {
  "kernelspec": {
   "display_name": "MicroPython upydevice kernel",
   "language": "python",
   "name": "micropython-upydevice"
  },
  "language_info": {
   "codemirror_mode": "python",
   "file_extension": ".py",
   "mimetype": "text/x-python",
   "name": "python",
   "pygments_lexer": "python"
  }
 },
 "nbformat": 4,
 "nbformat_minor": 5
}
